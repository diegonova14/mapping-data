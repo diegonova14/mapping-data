{
 "cells": [
  {
   "cell_type": "markdown",
   "id": "ce51fd4d-62d3-44e7-9e11-0e1265e5cdd3",
   "metadata": {},
   "source": [
    "# Proposed Exercises\n",
    "\n",
    "## Importing data to pandas data frame"
   ]
  },
  {
   "cell_type": "code",
   "execution_count": 1,
   "id": "252c741b-6726-4481-9e66-e5fd3602d9c5",
   "metadata": {},
   "outputs": [
    {
     "data": {
      "text/html": [
       "<div>\n",
       "<style scoped>\n",
       "    .dataframe tbody tr th:only-of-type {\n",
       "        vertical-align: middle;\n",
       "    }\n",
       "\n",
       "    .dataframe tbody tr th {\n",
       "        vertical-align: top;\n",
       "    }\n",
       "\n",
       "    .dataframe thead th {\n",
       "        text-align: right;\n",
       "    }\n",
       "</style>\n",
       "<table border=\"1\" class=\"dataframe\">\n",
       "  <thead>\n",
       "    <tr style=\"text-align: right;\">\n",
       "      <th></th>\n",
       "      <th>name</th>\n",
       "      <th>grape</th>\n",
       "      <th>region</th>\n",
       "      <th>variety</th>\n",
       "      <th>rating</th>\n",
       "      <th>notes</th>\n",
       "    </tr>\n",
       "  </thead>\n",
       "  <tbody>\n",
       "    <tr>\n",
       "      <th>0</th>\n",
       "      <td>Laurenz V Charming Gruner Veltliner 2013</td>\n",
       "      <td>NaN</td>\n",
       "      <td>Kamptal, Austria</td>\n",
       "      <td>White Wine</td>\n",
       "      <td>90</td>\n",
       "      <td>Aromas of ripe apples and a typical Veltliner ...</td>\n",
       "    </tr>\n",
       "    <tr>\n",
       "      <th>1</th>\n",
       "      <td>Laurenz V Charming Gruner Veltliner 2014</td>\n",
       "      <td>NaN</td>\n",
       "      <td>Kamptal, Austria</td>\n",
       "      <td>White Wine</td>\n",
       "      <td>90</td>\n",
       "      <td>Aromas of ripe apples and a typical Veltliner ...</td>\n",
       "    </tr>\n",
       "    <tr>\n",
       "      <th>2</th>\n",
       "      <td>Laurenz V Singing Gruner Veltliner 2007</td>\n",
       "      <td>NaN</td>\n",
       "      <td>Austria</td>\n",
       "      <td>White Wine</td>\n",
       "      <td>90</td>\n",
       "      <td>A very attractive fruit bouquet yields apple, ...</td>\n",
       "    </tr>\n",
       "    <tr>\n",
       "      <th>3</th>\n",
       "      <td>Laurenz V Singing Gruner Veltliner 2010</td>\n",
       "      <td>NaN</td>\n",
       "      <td>Austria</td>\n",
       "      <td>White Wine</td>\n",
       "      <td>88</td>\n",
       "      <td>A very attractive fruit bouquet yields apple, ...</td>\n",
       "    </tr>\n",
       "    <tr>\n",
       "      <th>4</th>\n",
       "      <td>Laurenz V Singing Gruner Veltliner 2011</td>\n",
       "      <td>NaN</td>\n",
       "      <td>Austria</td>\n",
       "      <td>White Wine</td>\n",
       "      <td>88</td>\n",
       "      <td>A very attractive fruit bouquet yields apple, ...</td>\n",
       "    </tr>\n",
       "  </tbody>\n",
       "</table>\n",
       "</div>"
      ],
      "text/plain": [
       "                                       name  grape            region  \\\n",
       "0  Laurenz V Charming Gruner Veltliner 2013    NaN  Kamptal, Austria   \n",
       "1  Laurenz V Charming Gruner Veltliner 2014    NaN  Kamptal, Austria   \n",
       "2   Laurenz V Singing Gruner Veltliner 2007    NaN           Austria   \n",
       "3   Laurenz V Singing Gruner Veltliner 2010    NaN           Austria   \n",
       "4   Laurenz V Singing Gruner Veltliner 2011    NaN           Austria   \n",
       "\n",
       "      variety  rating                                              notes  \n",
       "0  White Wine      90  Aromas of ripe apples and a typical Veltliner ...  \n",
       "1  White Wine      90  Aromas of ripe apples and a typical Veltliner ...  \n",
       "2  White Wine      90  A very attractive fruit bouquet yields apple, ...  \n",
       "3  White Wine      88  A very attractive fruit bouquet yields apple, ...  \n",
       "4  White Wine      88  A very attractive fruit bouquet yields apple, ...  "
      ]
     },
     "execution_count": 1,
     "metadata": {},
     "output_type": "execute_result"
    }
   ],
   "source": [
    "import json\n",
    "import pandas as pd\n",
    "\n",
    "df = pd.read_json('sample_data/wine-ratings.json')\n",
    "df.head()"
   ]
  },
  {
   "cell_type": "markdown",
   "id": "da5db2af-c3b1-406d-9eb2-08571cfb3064",
   "metadata": {},
   "source": [
    "## Retrieving specific data\n",
    "\n",
    "Types of wine: red and white"
   ]
  },
  {
   "cell_type": "code",
   "execution_count": 2,
   "id": "7a106db9-f34d-4b7d-b8e9-57251379df6e",
   "metadata": {},
   "outputs": [
    {
     "name": "stdout",
     "output_type": "stream",
     "text": [
      "['White Wine' 'Red Wine' 'Sparkling & Champagne' 'Pink and Rosé' None\n",
      " 'Collectible']\n"
     ]
    }
   ],
   "source": [
    "# Showing all the varieties\n",
    "print(df.variety.unique())"
   ]
  },
  {
   "cell_type": "code",
   "execution_count": 3,
   "id": "fb95f404-a3ae-4e23-95fd-fcdfe4f2e329",
   "metadata": {},
   "outputs": [
    {
     "data": {
      "text/plain": [
       "array(['White Wine', 'Red Wine'], dtype=object)"
      ]
     },
     "execution_count": 3,
     "metadata": {},
     "output_type": "execute_result"
    }
   ],
   "source": [
    "# Type of wine: Red and white\n",
    "wines_rw = df[(df.variety == 'Red Wine') | (df.variety == 'White Wine')]\n",
    "wines_rw.variety.unique()"
   ]
  },
  {
   "cell_type": "markdown",
   "id": "8388c2fd-0311-41eb-9365-b393c1c443ba",
   "metadata": {},
   "source": [
    "Wine score range or baseline"
   ]
  },
  {
   "cell_type": "code",
   "execution_count": 4,
   "id": "f191552e-e695-4eb6-b22d-84431542d475",
   "metadata": {},
   "outputs": [
    {
     "data": {
      "text/plain": [
       "array([90, 91, 92])"
      ]
     },
     "execution_count": 4,
     "metadata": {},
     "output_type": "execute_result"
    }
   ],
   "source": [
    "wines_score = wines_rw[(wines_rw.rating >= 90) & (wines_rw.rating <= 92)]\n",
    "wines_score.rating.unique()"
   ]
  },
  {
   "cell_type": "markdown",
   "id": "e700405a-3412-45bf-a04c-c7791c6b8226",
   "metadata": {},
   "source": [
    "Region filtering"
   ]
  },
  {
   "cell_type": "code",
   "execution_count": 5,
   "id": "5753aacd-8cbd-432e-997c-af5bd0025449",
   "metadata": {},
   "outputs": [
    {
     "data": {
      "text/html": [
       "<div>\n",
       "<style scoped>\n",
       "    .dataframe tbody tr th:only-of-type {\n",
       "        vertical-align: middle;\n",
       "    }\n",
       "\n",
       "    .dataframe tbody tr th {\n",
       "        vertical-align: top;\n",
       "    }\n",
       "\n",
       "    .dataframe thead th {\n",
       "        text-align: right;\n",
       "    }\n",
       "</style>\n",
       "<table border=\"1\" class=\"dataframe\">\n",
       "  <thead>\n",
       "    <tr style=\"text-align: right;\">\n",
       "      <th></th>\n",
       "      <th>name</th>\n",
       "      <th>grape</th>\n",
       "      <th>region</th>\n",
       "      <th>variety</th>\n",
       "      <th>rating</th>\n",
       "      <th>notes</th>\n",
       "    </tr>\n",
       "  </thead>\n",
       "  <tbody>\n",
       "    <tr>\n",
       "      <th>91</th>\n",
       "      <td>Le Berne Vino Nobile di Montepulciano 2011</td>\n",
       "      <td>NaN</td>\n",
       "      <td>Tuscany, Italy</td>\n",
       "      <td>Red Wine</td>\n",
       "      <td>90</td>\n",
       "      <td>The grapes, about 90% of which are Sangiovese ...</td>\n",
       "    </tr>\n",
       "    <tr>\n",
       "      <th>107</th>\n",
       "      <td>Le Casematte Faro 2013</td>\n",
       "      <td>NaN</td>\n",
       "      <td>Sicily, Italy</td>\n",
       "      <td>Red Wine</td>\n",
       "      <td>91</td>\n",
       "      <td>Dark ruby red with orange hues, the wine has a...</td>\n",
       "    </tr>\n",
       "    <tr>\n",
       "      <th>108</th>\n",
       "      <td>Le Casematte Faro 2016</td>\n",
       "      <td>NaN</td>\n",
       "      <td>Sicily, Italy</td>\n",
       "      <td>Red Wine</td>\n",
       "      <td>91</td>\n",
       "      <td>Dark ruby red with orange hues, the wine has a...</td>\n",
       "    </tr>\n",
       "    <tr>\n",
       "      <th>110</th>\n",
       "      <td>Le Casematte Peloro Rosso 2014</td>\n",
       "      <td>NaN</td>\n",
       "      <td>Sicily, Italy</td>\n",
       "      <td>Red Wine</td>\n",
       "      <td>91</td>\n",
       "      <td>Brilliant ruby red in color with violet reflec...</td>\n",
       "    </tr>\n",
       "    <tr>\n",
       "      <th>111</th>\n",
       "      <td>Le Casematte Peloro Rosso 2015</td>\n",
       "      <td>NaN</td>\n",
       "      <td>Sicily, Italy</td>\n",
       "      <td>Red Wine</td>\n",
       "      <td>92</td>\n",
       "      <td>Brilliant ruby red in color with violet reflec...</td>\n",
       "    </tr>\n",
       "    <tr>\n",
       "      <th>...</th>\n",
       "      <td>...</td>\n",
       "      <td>...</td>\n",
       "      <td>...</td>\n",
       "      <td>...</td>\n",
       "      <td>...</td>\n",
       "      <td>...</td>\n",
       "    </tr>\n",
       "    <tr>\n",
       "      <th>571</th>\n",
       "      <td>Leone de Castris Salice Salentino Riserva 2011</td>\n",
       "      <td>NaN</td>\n",
       "      <td>Puglia, Italy</td>\n",
       "      <td>Red Wine</td>\n",
       "      <td>91</td>\n",
       "      <td>Intense ruby-red in color, concentrated aromas...</td>\n",
       "    </tr>\n",
       "    <tr>\n",
       "      <th>575</th>\n",
       "      <td>Leone de Castris Verdeca Bianco Messapia 2009</td>\n",
       "      <td>NaN</td>\n",
       "      <td>Italy</td>\n",
       "      <td>White Wine</td>\n",
       "      <td>90</td>\n",
       "      <td>Made from 100% Verdeca, an ancient Greek varie...</td>\n",
       "    </tr>\n",
       "    <tr>\n",
       "      <th>653</th>\n",
       "      <td>Les Cretes Le Sommet Nebbiolo 2016</td>\n",
       "      <td>NaN</td>\n",
       "      <td>Valle d'Aosta, Italy</td>\n",
       "      <td>Red Wine</td>\n",
       "      <td>91</td>\n",
       "      <td>Bright ruby color. On the nose blackberry, che...</td>\n",
       "    </tr>\n",
       "    <tr>\n",
       "      <th>654</th>\n",
       "      <td>Les Cretes Les Abeilles 2006</td>\n",
       "      <td>NaN</td>\n",
       "      <td>Valle d'Aosta, Italy</td>\n",
       "      <td>White Wine</td>\n",
       "      <td>91</td>\n",
       "      <td>Brilliant golden yellow hue. Fruit (dried apri...</td>\n",
       "    </tr>\n",
       "    <tr>\n",
       "      <th>655</th>\n",
       "      <td>Les Cretes Valle d'Aosta Chardonnay 2010</td>\n",
       "      <td>NaN</td>\n",
       "      <td>Italy</td>\n",
       "      <td>White Wine</td>\n",
       "      <td>92</td>\n",
       "      <td>Valle d'Aosta Chardonnay is a lovely yellow. T...</td>\n",
       "    </tr>\n",
       "  </tbody>\n",
       "</table>\n",
       "<p>90 rows × 6 columns</p>\n",
       "</div>"
      ],
      "text/plain": [
       "                                               name  grape  \\\n",
       "91       Le Berne Vino Nobile di Montepulciano 2011    NaN   \n",
       "107                          Le Casematte Faro 2013    NaN   \n",
       "108                          Le Casematte Faro 2016    NaN   \n",
       "110                  Le Casematte Peloro Rosso 2014    NaN   \n",
       "111                  Le Casematte Peloro Rosso 2015    NaN   \n",
       "..                                              ...    ...   \n",
       "571  Leone de Castris Salice Salentino Riserva 2011    NaN   \n",
       "575   Leone de Castris Verdeca Bianco Messapia 2009    NaN   \n",
       "653              Les Cretes Le Sommet Nebbiolo 2016    NaN   \n",
       "654                    Les Cretes Les Abeilles 2006    NaN   \n",
       "655        Les Cretes Valle d'Aosta Chardonnay 2010    NaN   \n",
       "\n",
       "                   region     variety  rating  \\\n",
       "91         Tuscany, Italy    Red Wine      90   \n",
       "107         Sicily, Italy    Red Wine      91   \n",
       "108         Sicily, Italy    Red Wine      91   \n",
       "110         Sicily, Italy    Red Wine      91   \n",
       "111         Sicily, Italy    Red Wine      92   \n",
       "..                    ...         ...     ...   \n",
       "571         Puglia, Italy    Red Wine      91   \n",
       "575                 Italy  White Wine      90   \n",
       "653  Valle d'Aosta, Italy    Red Wine      91   \n",
       "654  Valle d'Aosta, Italy  White Wine      91   \n",
       "655                 Italy  White Wine      92   \n",
       "\n",
       "                                                 notes  \n",
       "91   The grapes, about 90% of which are Sangiovese ...  \n",
       "107  Dark ruby red with orange hues, the wine has a...  \n",
       "108  Dark ruby red with orange hues, the wine has a...  \n",
       "110  Brilliant ruby red in color with violet reflec...  \n",
       "111  Brilliant ruby red in color with violet reflec...  \n",
       "..                                                 ...  \n",
       "571  Intense ruby-red in color, concentrated aromas...  \n",
       "575  Made from 100% Verdeca, an ancient Greek varie...  \n",
       "653  Bright ruby color. On the nose blackberry, che...  \n",
       "654  Brilliant golden yellow hue. Fruit (dried apri...  \n",
       "655  Valle d'Aosta Chardonnay is a lovely yellow. T...  \n",
       "\n",
       "[90 rows x 6 columns]"
      ]
     },
     "execution_count": 5,
     "metadata": {},
     "output_type": "execute_result"
    }
   ],
   "source": [
    "# Looking for white and red wines that have rating between 90-92 and come from any part of Italy\n",
    "wines_Italy = wines_score[wines_score.region.str.contains('Italy')]\n",
    "wines_Italy"
   ]
  },
  {
   "cell_type": "markdown",
   "id": "c1dbc698-e78a-4f49-b388-8591eaf50ae5",
   "metadata": {},
   "source": [
    "Capturing everything in a JSON file"
   ]
  },
  {
   "cell_type": "code",
   "execution_count": 8,
   "id": "8d4f555b-7c02-4ff8-b0ec-75758772f83e",
   "metadata": {},
   "outputs": [],
   "source": [
    "wines_Italy.to_json('sample_data/good-Italian-red-white-wines.json')"
   ]
  }
 ],
 "metadata": {
  "kernelspec": {
   "display_name": "Python 3 (ipykernel)",
   "language": "python",
   "name": "python3"
  },
  "language_info": {
   "codemirror_mode": {
    "name": "ipython",
    "version": 3
   },
   "file_extension": ".py",
   "mimetype": "text/x-python",
   "name": "python",
   "nbconvert_exporter": "python",
   "pygments_lexer": "ipython3",
   "version": "3.10.9"
  }
 },
 "nbformat": 4,
 "nbformat_minor": 5
}
